{
 "cells": [
  {
   "cell_type": "code",
   "execution_count": 2,
   "id": "af5b0c29-d610-474b-910e-76404abf516b",
   "metadata": {},
   "outputs": [
    {
     "name": "stdout",
     "output_type": "stream",
     "text": [
      "Language Detection Accuracy: 1.0\n",
      "Language Classification Report:\n",
      "               precision    recall  f1-score   support\n",
      "\n",
      "     Chinese       1.00      1.00      1.00         1\n",
      "     English       1.00      1.00      1.00         1\n",
      "      French       1.00      1.00      1.00         1\n",
      "\n",
      "    accuracy                           1.00         3\n",
      "   macro avg       1.00      1.00      1.00         3\n",
      "weighted avg       1.00      1.00      1.00         3\n",
      "\n",
      "English Native/Non-Native Detection Accuracy: 1.0\n",
      "English Text Classification Report:\n",
      "               precision    recall  f1-score   support\n",
      "\n",
      "      Native       1.00      1.00      1.00         6\n",
      "  Non-Native       1.00      1.00      1.00         4\n",
      "\n",
      "    accuracy                           1.00        10\n",
      "   macro avg       1.00      1.00      1.00        10\n",
      "weighted avg       1.00      1.00      1.00        10\n",
      "\n"
     ]
    }
   ],
   "source": [
    "import pandas as pd\n",
    "from sklearn.feature_extraction.text import CountVectorizer, TfidfVectorizer\n",
    "from sklearn.naive_bayes import MultinomialNB\n",
    "from sklearn.model_selection import train_test_split\n",
    "from sklearn.metrics import classification_report, accuracy_score\n",
    "\n",
    "\n",
    "def read_text(filename, encoding):\n",
    "    with open(filename, 'r', encoding=encoding) as file:\n",
    "        return file.read()\n",
    "\n",
    "\n",
    "data = {\n",
    "    'Text': [\n",
    "        read_text('Anglais_10.txt', 'utf-8'), \n",
    "        read_text('Français_1.txt', 'windows-1252'),  \n",
    "        read_text('Chinois_1.txt', 'utf-8') \n",
    "    ],\n",
    "    'Language': ['English', 'French', 'Chinese']\n",
    "}\n",
    "\n",
    "df = pd.DataFrame(data)\n",
    "\n",
    "\n",
    "english_texts = {\n",
    "    'Text': df[df['Language'] == 'English']['Text'].iloc[0].split('.')[:10],  # Simulated split into sentences\n",
    "    'Is_Native': ['Native', 'Non-Native', 'Native', 'Non-Native', 'Native', 'Native', 'Non-Native', 'Native', 'Non-Native', 'Native']\n",
    "}\n",
    "df_english = pd.DataFrame(english_texts)\n",
    "\n",
    "\n",
    "vectorizer_lang = CountVectorizer(analyzer='char', ngram_range=(1, 3))\n",
    "X_lang = vectorizer_lang.fit_transform(df['Text'])\n",
    "y_lang = df['Language']\n",
    "\n",
    "\n",
    "model_lang = MultinomialNB()\n",
    "model_lang.fit(X_lang, y_lang)\n",
    "\n",
    "\n",
    "vectorizer_eng = TfidfVectorizer(ngram_range=(1, 3))\n",
    "X_eng = vectorizer_eng.fit_transform(df_english['Text'])\n",
    "y_eng = df_english['Is_Native']\n",
    "\n",
    "\n",
    "model_eng = MultinomialNB()\n",
    "model_eng.fit(X_eng, y_eng)\n",
    "\n",
    "\n",
    "y_pred_lang = model_lang.predict(X_lang)\n",
    "print(\"Language Detection Accuracy:\", accuracy_score(y_lang, y_pred_lang))\n",
    "print(\"Language Classification Report:\\n\", classification_report(y_lang, y_pred_lang))\n",
    "\n",
    "y_pred_eng = model_eng.predict(X_eng)\n",
    "print(\"English Native/Non-Native Detection Accuracy:\", accuracy_score(y_eng, y_pred_eng))\n",
    "print(\"English Text Classification Report:\\n\", classification_report(y_eng, y_pred_eng))\n"
   ]
  },
  {
   "cell_type": "code",
   "execution_count": null,
   "id": "81d2d188-3ca1-49f2-affc-d76307078efe",
   "metadata": {},
   "outputs": [],
   "source": []
  },
  {
   "cell_type": "code",
   "execution_count": null,
   "id": "31fd41f7-6750-4f6e-ab6b-b891357c52b8",
   "metadata": {},
   "outputs": [],
   "source": []
  }
 ],
 "metadata": {
  "kernelspec": {
   "display_name": "Python 3 (ipykernel)",
   "language": "python",
   "name": "python3"
  },
  "language_info": {
   "codemirror_mode": {
    "name": "ipython",
    "version": 3
   },
   "file_extension": ".py",
   "mimetype": "text/x-python",
   "name": "python",
   "nbconvert_exporter": "python",
   "pygments_lexer": "ipython3",
   "version": "3.8.19"
  }
 },
 "nbformat": 4,
 "nbformat_minor": 5
}
